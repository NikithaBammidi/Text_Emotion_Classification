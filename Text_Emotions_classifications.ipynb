{
  "nbformat": 4,
  "nbformat_minor": 0,
  "metadata": {
    "colab": {
      "provenance": []
    },
    "kernelspec": {
      "name": "python3",
      "display_name": "Python 3"
    },
    "language_info": {
      "name": "python"
    }
  },
  "cells": [
    {
      "cell_type": "code",
      "execution_count": 2,
      "metadata": {
        "colab": {
          "base_uri": "https://localhost:8080/"
        },
        "id": "0tsSbtIJXf2x",
        "outputId": "cac33ada-faf8-4b4d-8f9e-d822c633f0df"
      },
      "outputs": [
        {
          "output_type": "stream",
          "name": "stdout",
          "text": [
            "                                                Text Emotions\n",
            "0  i can go from feeling so hopeless to so damned...  sadness\n",
            "1   im grabbing a minute to post i feel greedy wrong    anger\n",
            "2  i am ever feeling nostalgic about the fireplac...     love\n",
            "3                               i am feeling grouchy    anger\n",
            "4  ive been feeling a little burdened lately wasn...  sadness\n"
          ]
        }
      ],
      "source": [
        "import pandas as pd\n",
        "import numpy as np\n",
        "import keras\n",
        "import tensorflow\n",
        "from keras.preprocessing.text import Tokenizer\n",
        "from tensorflow.keras.preprocessing.sequence import pad_sequences\n",
        "from sklearn.preprocessing import LabelEncoder\n",
        "from sklearn.model_selection import train_test_split\n",
        "from keras.models import Sequential\n",
        "from keras.layers import Embedding, Flatten, Dense\n",
        "\n",
        "\n",
        "data = pd.read_csv(\"train.txt\", sep=';')\n",
        "data.columns = [\"Text\", \"Emotions\"]\n",
        "print(data.head())"
      ]
    },
    {
      "cell_type": "code",
      "source": [
        "texts = data[\"Text\"].tolist()\n",
        "labels = data[\"Emotions\"].tolist()\n",
        "\n",
        "# Tokenize the text data\n",
        "tokenizer = Tokenizer()\n",
        "tokenizer.fit_on_texts(texts)"
      ],
      "metadata": {
        "id": "Doq_XBu8Xg-P"
      },
      "execution_count": 3,
      "outputs": []
    },
    {
      "cell_type": "code",
      "source": [
        "sequences = tokenizer.texts_to_sequences(texts)\n",
        "max_length = max([len(seq) for seq in sequences])\n",
        "padded_sequences = pad_sequences(sequences, maxlen=max_length)"
      ],
      "metadata": {
        "id": "QJxA-ZmCYr6D"
      },
      "execution_count": 4,
      "outputs": []
    },
    {
      "cell_type": "code",
      "source": [
        "# Encode the string labels to integers\n",
        "label_encoder = LabelEncoder()\n",
        "labels = label_encoder.fit_transform(labels)"
      ],
      "metadata": {
        "id": "ei1xWjEGYzOV"
      },
      "execution_count": 5,
      "outputs": []
    },
    {
      "cell_type": "code",
      "source": [
        "# One-hot encode the labels\n",
        "one_hot_labels = keras.utils.to_categorical(labels)"
      ],
      "metadata": {
        "id": "vXMnFO9PY6lN"
      },
      "execution_count": 6,
      "outputs": []
    },
    {
      "cell_type": "code",
      "source": [
        "# Split the data into training and testing sets\n",
        "xtrain, xtest, ytrain, ytest = train_test_split(padded_sequences,\n",
        "                                                one_hot_labels,\n",
        "                                                test_size=0.2)"
      ],
      "metadata": {
        "id": "dauIRECyZBUe"
      },
      "execution_count": 7,
      "outputs": []
    },
    {
      "cell_type": "code",
      "source": [
        "# Define the model\n",
        "model = Sequential()\n",
        "model.add(Embedding(input_dim=len(tokenizer.word_index) + 1,\n",
        "                    output_dim=128, input_length=max_length))\n",
        "model.add(Flatten())\n",
        "model.add(Dense(units=128, activation=\"relu\"))\n",
        "model.add(Dense(units=len(one_hot_labels[0]), activation=\"softmax\"))\n",
        "\n",
        "model.compile(optimizer=\"adam\", loss=\"categorical_crossentropy\", metrics=[\"accuracy\"])\n",
        "model.fit(xtrain, ytrain, epochs=10, batch_size=32, validation_data=(xtest, ytest))"
      ],
      "metadata": {
        "colab": {
          "base_uri": "https://localhost:8080/"
        },
        "id": "8_acWksLZIxX",
        "outputId": "fa7140fc-e084-4444-c529-2e5aa13e30e6"
      },
      "execution_count": 8,
      "outputs": [
        {
          "output_type": "stream",
          "name": "stdout",
          "text": [
            "Epoch 1/10\n",
            "400/400 [==============================] - 9s 22ms/step - loss: 1.3743 - accuracy: 0.4728 - val_loss: 0.9166 - val_accuracy: 0.7041\n",
            "Epoch 2/10\n",
            "400/400 [==============================] - 8s 21ms/step - loss: 0.3967 - accuracy: 0.8743 - val_loss: 0.5272 - val_accuracy: 0.8238\n",
            "Epoch 3/10\n",
            "400/400 [==============================] - 8s 20ms/step - loss: 0.0647 - accuracy: 0.9833 - val_loss: 0.5735 - val_accuracy: 0.8178\n",
            "Epoch 4/10\n",
            "400/400 [==============================] - 9s 22ms/step - loss: 0.0232 - accuracy: 0.9951 - val_loss: 0.5489 - val_accuracy: 0.8372\n",
            "Epoch 5/10\n",
            "400/400 [==============================] - 8s 19ms/step - loss: 0.0182 - accuracy: 0.9966 - val_loss: 0.5814 - val_accuracy: 0.8344\n",
            "Epoch 6/10\n",
            "400/400 [==============================] - 8s 21ms/step - loss: 0.0133 - accuracy: 0.9972 - val_loss: 0.6018 - val_accuracy: 0.8303\n",
            "Epoch 7/10\n",
            "400/400 [==============================] - 8s 20ms/step - loss: 0.0115 - accuracy: 0.9974 - val_loss: 0.6268 - val_accuracy: 0.8338\n",
            "Epoch 8/10\n",
            "400/400 [==============================] - 8s 20ms/step - loss: 0.0097 - accuracy: 0.9977 - val_loss: 0.6774 - val_accuracy: 0.8247\n",
            "Epoch 9/10\n",
            "400/400 [==============================] - 8s 21ms/step - loss: 0.0101 - accuracy: 0.9974 - val_loss: 0.6593 - val_accuracy: 0.8306\n",
            "Epoch 10/10\n",
            "400/400 [==============================] - 7s 19ms/step - loss: 0.0082 - accuracy: 0.9975 - val_loss: 0.7140 - val_accuracy: 0.8291\n"
          ]
        },
        {
          "output_type": "execute_result",
          "data": {
            "text/plain": [
              "<keras.src.callbacks.History at 0x7effa8b578e0>"
            ]
          },
          "metadata": {},
          "execution_count": 8
        }
      ]
    },
    {
      "cell_type": "code",
      "source": [
        "input_text = \"i just feel really violent right now\"\n",
        "\n",
        "# Preprocess the input text\n",
        "input_sequence = tokenizer.texts_to_sequences([input_text])\n",
        "padded_input_sequence = pad_sequences(input_sequence, maxlen=max_length)\n",
        "prediction = model.predict(padded_input_sequence)\n",
        "predicted_label = label_encoder.inverse_transform([np.argmax(prediction[0])])\n",
        "print(predicted_label)"
      ],
      "metadata": {
        "colab": {
          "base_uri": "https://localhost:8080/"
        },
        "id": "xZAAiIxSZX9F",
        "outputId": "45e79a9c-fdcf-43ed-c5f8-a0f9fe03d903"
      },
      "execution_count": 9,
      "outputs": [
        {
          "output_type": "stream",
          "name": "stdout",
          "text": [
            "1/1 [==============================] - 0s 66ms/step\n",
            "['anger']\n"
          ]
        }
      ]
    },
    {
      "cell_type": "code",
      "source": [
        "#I might walk slow but never backwards\n",
        "# I am feeling low\n",
        "# I am hungry\n",
        "#i was feeling an act of god at work in my life and it was an amazing feeling\n",
        "#I am weeping\n",
        "#i love dancing\n",
        "#i think im just being stupid feeling nervous\n",
        "#i just feel really violent right now"
      ],
      "metadata": {
        "id": "hm4g1kPAaUmB"
      },
      "execution_count": 10,
      "outputs": []
    }
  ]
}